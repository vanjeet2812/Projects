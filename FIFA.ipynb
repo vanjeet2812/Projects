{
 "cells": [
  {
   "cell_type": "code",
   "execution_count": 2,
   "id": "85beb3fd",
   "metadata": {},
   "outputs": [],
   "source": [
    "import pandas as pd\n",
    "import numpy as np\n",
    "import matplotlib.pyplot as plt\n",
    "import seaborn as sns\n",
    "from sklearn.model_selection import train_test_split\n",
    "from sklearn.ensemble import RandomForestClassifier \n",
    "from sklearn.metrics import classification_report, confusion_matrix, accuracy_score\n",
    "from sklearn.linear_model import LogisticRegression\n",
    "%matplotlib inline"
   ]
  },
  {
   "cell_type": "code",
   "execution_count": 3,
   "id": "320f0bb0",
   "metadata": {},
   "outputs": [],
   "source": [
    "df = pd .read_csv(\"players_21.csv\")"
   ]
  },
  {
   "cell_type": "code",
   "execution_count": 4,
   "id": "10e1cab6",
   "metadata": {},
   "outputs": [
    {
     "data": {
      "text/html": [
       "<div>\n",
       "<style scoped>\n",
       "    .dataframe tbody tr th:only-of-type {\n",
       "        vertical-align: middle;\n",
       "    }\n",
       "\n",
       "    .dataframe tbody tr th {\n",
       "        vertical-align: top;\n",
       "    }\n",
       "\n",
       "    .dataframe thead th {\n",
       "        text-align: right;\n",
       "    }\n",
       "</style>\n",
       "<table border=\"1\" class=\"dataframe\">\n",
       "  <thead>\n",
       "    <tr style=\"text-align: right;\">\n",
       "      <th></th>\n",
       "      <th>sofifa_id</th>\n",
       "      <th>player_url</th>\n",
       "      <th>short_name</th>\n",
       "      <th>long_name</th>\n",
       "      <th>age</th>\n",
       "      <th>dob</th>\n",
       "      <th>height_cm</th>\n",
       "      <th>weight_kg</th>\n",
       "      <th>nationality</th>\n",
       "      <th>club_name</th>\n",
       "      <th>...</th>\n",
       "      <th>lwb</th>\n",
       "      <th>ldm</th>\n",
       "      <th>cdm</th>\n",
       "      <th>rdm</th>\n",
       "      <th>rwb</th>\n",
       "      <th>lb</th>\n",
       "      <th>lcb</th>\n",
       "      <th>cb</th>\n",
       "      <th>rcb</th>\n",
       "      <th>rb</th>\n",
       "    </tr>\n",
       "  </thead>\n",
       "  <tbody>\n",
       "    <tr>\n",
       "      <th>0</th>\n",
       "      <td>158023</td>\n",
       "      <td>https://sofifa.com/player/158023/lionel-messi/...</td>\n",
       "      <td>L. Messi</td>\n",
       "      <td>Lionel Andrés Messi Cuccittini</td>\n",
       "      <td>33</td>\n",
       "      <td>1987-06-24</td>\n",
       "      <td>170</td>\n",
       "      <td>72</td>\n",
       "      <td>Argentina</td>\n",
       "      <td>FC Barcelona</td>\n",
       "      <td>...</td>\n",
       "      <td>66+3</td>\n",
       "      <td>65+3</td>\n",
       "      <td>65+3</td>\n",
       "      <td>65+3</td>\n",
       "      <td>66+3</td>\n",
       "      <td>62+3</td>\n",
       "      <td>52+3</td>\n",
       "      <td>52+3</td>\n",
       "      <td>52+3</td>\n",
       "      <td>62+3</td>\n",
       "    </tr>\n",
       "    <tr>\n",
       "      <th>1</th>\n",
       "      <td>20801</td>\n",
       "      <td>https://sofifa.com/player/20801/c-ronaldo-dos-...</td>\n",
       "      <td>Cristiano Ronaldo</td>\n",
       "      <td>Cristiano Ronaldo dos Santos Aveiro</td>\n",
       "      <td>35</td>\n",
       "      <td>1985-02-05</td>\n",
       "      <td>187</td>\n",
       "      <td>83</td>\n",
       "      <td>Portugal</td>\n",
       "      <td>Juventus</td>\n",
       "      <td>...</td>\n",
       "      <td>65+3</td>\n",
       "      <td>61+3</td>\n",
       "      <td>61+3</td>\n",
       "      <td>61+3</td>\n",
       "      <td>65+3</td>\n",
       "      <td>61+3</td>\n",
       "      <td>54+3</td>\n",
       "      <td>54+3</td>\n",
       "      <td>54+3</td>\n",
       "      <td>61+3</td>\n",
       "    </tr>\n",
       "    <tr>\n",
       "      <th>2</th>\n",
       "      <td>200389</td>\n",
       "      <td>https://sofifa.com/player/200389/jan-oblak/210002</td>\n",
       "      <td>J. Oblak</td>\n",
       "      <td>Jan Oblak</td>\n",
       "      <td>27</td>\n",
       "      <td>1993-01-07</td>\n",
       "      <td>188</td>\n",
       "      <td>87</td>\n",
       "      <td>Slovenia</td>\n",
       "      <td>Atlético Madrid</td>\n",
       "      <td>...</td>\n",
       "      <td>32+3</td>\n",
       "      <td>36+3</td>\n",
       "      <td>36+3</td>\n",
       "      <td>36+3</td>\n",
       "      <td>32+3</td>\n",
       "      <td>32+3</td>\n",
       "      <td>33+3</td>\n",
       "      <td>33+3</td>\n",
       "      <td>33+3</td>\n",
       "      <td>32+3</td>\n",
       "    </tr>\n",
       "    <tr>\n",
       "      <th>3</th>\n",
       "      <td>188545</td>\n",
       "      <td>https://sofifa.com/player/188545/robert-lewand...</td>\n",
       "      <td>R. Lewandowski</td>\n",
       "      <td>Robert Lewandowski</td>\n",
       "      <td>31</td>\n",
       "      <td>1988-08-21</td>\n",
       "      <td>184</td>\n",
       "      <td>80</td>\n",
       "      <td>Poland</td>\n",
       "      <td>FC Bayern München</td>\n",
       "      <td>...</td>\n",
       "      <td>64+3</td>\n",
       "      <td>65+3</td>\n",
       "      <td>65+3</td>\n",
       "      <td>65+3</td>\n",
       "      <td>64+3</td>\n",
       "      <td>61+3</td>\n",
       "      <td>60+3</td>\n",
       "      <td>60+3</td>\n",
       "      <td>60+3</td>\n",
       "      <td>61+3</td>\n",
       "    </tr>\n",
       "    <tr>\n",
       "      <th>4</th>\n",
       "      <td>190871</td>\n",
       "      <td>https://sofifa.com/player/190871/neymar-da-sil...</td>\n",
       "      <td>Neymar Jr</td>\n",
       "      <td>Neymar da Silva Santos Júnior</td>\n",
       "      <td>28</td>\n",
       "      <td>1992-02-05</td>\n",
       "      <td>175</td>\n",
       "      <td>68</td>\n",
       "      <td>Brazil</td>\n",
       "      <td>Paris Saint-Germain</td>\n",
       "      <td>...</td>\n",
       "      <td>67+3</td>\n",
       "      <td>62+3</td>\n",
       "      <td>62+3</td>\n",
       "      <td>62+3</td>\n",
       "      <td>67+3</td>\n",
       "      <td>62+3</td>\n",
       "      <td>49+3</td>\n",
       "      <td>49+3</td>\n",
       "      <td>49+3</td>\n",
       "      <td>62+3</td>\n",
       "    </tr>\n",
       "  </tbody>\n",
       "</table>\n",
       "<p>5 rows × 106 columns</p>\n",
       "</div>"
      ],
      "text/plain": [
       "   sofifa_id                                         player_url  \\\n",
       "0     158023  https://sofifa.com/player/158023/lionel-messi/...   \n",
       "1      20801  https://sofifa.com/player/20801/c-ronaldo-dos-...   \n",
       "2     200389  https://sofifa.com/player/200389/jan-oblak/210002   \n",
       "3     188545  https://sofifa.com/player/188545/robert-lewand...   \n",
       "4     190871  https://sofifa.com/player/190871/neymar-da-sil...   \n",
       "\n",
       "          short_name                            long_name  age         dob  \\\n",
       "0           L. Messi       Lionel Andrés Messi Cuccittini   33  1987-06-24   \n",
       "1  Cristiano Ronaldo  Cristiano Ronaldo dos Santos Aveiro   35  1985-02-05   \n",
       "2           J. Oblak                            Jan Oblak   27  1993-01-07   \n",
       "3     R. Lewandowski                   Robert Lewandowski   31  1988-08-21   \n",
       "4          Neymar Jr        Neymar da Silva Santos Júnior   28  1992-02-05   \n",
       "\n",
       "   height_cm  weight_kg nationality            club_name  ...   lwb   ldm  \\\n",
       "0        170         72   Argentina         FC Barcelona  ...  66+3  65+3   \n",
       "1        187         83    Portugal             Juventus  ...  65+3  61+3   \n",
       "2        188         87    Slovenia      Atlético Madrid  ...  32+3  36+3   \n",
       "3        184         80      Poland    FC Bayern München  ...  64+3  65+3   \n",
       "4        175         68      Brazil  Paris Saint-Germain  ...  67+3  62+3   \n",
       "\n",
       "    cdm   rdm   rwb    lb   lcb    cb   rcb    rb  \n",
       "0  65+3  65+3  66+3  62+3  52+3  52+3  52+3  62+3  \n",
       "1  61+3  61+3  65+3  61+3  54+3  54+3  54+3  61+3  \n",
       "2  36+3  36+3  32+3  32+3  33+3  33+3  33+3  32+3  \n",
       "3  65+3  65+3  64+3  61+3  60+3  60+3  60+3  61+3  \n",
       "4  62+3  62+3  67+3  62+3  49+3  49+3  49+3  62+3  \n",
       "\n",
       "[5 rows x 106 columns]"
      ]
     },
     "execution_count": 4,
     "metadata": {},
     "output_type": "execute_result"
    }
   ],
   "source": [
    "df.head()"
   ]
  },
  {
   "cell_type": "code",
   "execution_count": 5,
   "id": "5bcd50e0",
   "metadata": {},
   "outputs": [
    {
     "name": "stdout",
     "output_type": "stream",
     "text": [
      "<class 'pandas.core.frame.DataFrame'>\n",
      "RangeIndex: 18944 entries, 0 to 18943\n",
      "Columns: 106 entries, sofifa_id to rb\n",
      "dtypes: float64(18), int64(44), object(44)\n",
      "memory usage: 15.3+ MB\n"
     ]
    }
   ],
   "source": [
    "df.info()"
   ]
  },
  {
   "cell_type": "code",
   "execution_count": 6,
   "id": "e669d872",
   "metadata": {},
   "outputs": [
    {
     "data": {
      "text/html": [
       "<div>\n",
       "<style scoped>\n",
       "    .dataframe tbody tr th:only-of-type {\n",
       "        vertical-align: middle;\n",
       "    }\n",
       "\n",
       "    .dataframe tbody tr th {\n",
       "        vertical-align: top;\n",
       "    }\n",
       "\n",
       "    .dataframe thead th {\n",
       "        text-align: right;\n",
       "    }\n",
       "</style>\n",
       "<table border=\"1\" class=\"dataframe\">\n",
       "  <thead>\n",
       "    <tr style=\"text-align: right;\">\n",
       "      <th></th>\n",
       "      <th>sofifa_id</th>\n",
       "      <th>age</th>\n",
       "      <th>height_cm</th>\n",
       "      <th>weight_kg</th>\n",
       "      <th>league_rank</th>\n",
       "      <th>overall</th>\n",
       "      <th>potential</th>\n",
       "      <th>value_eur</th>\n",
       "      <th>wage_eur</th>\n",
       "      <th>international_reputation</th>\n",
       "      <th>...</th>\n",
       "      <th>mentality_penalties</th>\n",
       "      <th>mentality_composure</th>\n",
       "      <th>defending_marking</th>\n",
       "      <th>defending_standing_tackle</th>\n",
       "      <th>defending_sliding_tackle</th>\n",
       "      <th>goalkeeping_diving</th>\n",
       "      <th>goalkeeping_handling</th>\n",
       "      <th>goalkeeping_kicking</th>\n",
       "      <th>goalkeeping_positioning</th>\n",
       "      <th>goalkeeping_reflexes</th>\n",
       "    </tr>\n",
       "  </thead>\n",
       "  <tbody>\n",
       "    <tr>\n",
       "      <th>count</th>\n",
       "      <td>18944.000000</td>\n",
       "      <td>18944.000000</td>\n",
       "      <td>18944.000000</td>\n",
       "      <td>18944.000000</td>\n",
       "      <td>18719.000000</td>\n",
       "      <td>18944.000000</td>\n",
       "      <td>18944.000000</td>\n",
       "      <td>1.894400e+04</td>\n",
       "      <td>18944.000000</td>\n",
       "      <td>18944.000000</td>\n",
       "      <td>...</td>\n",
       "      <td>18944.000000</td>\n",
       "      <td>18944.000000</td>\n",
       "      <td>0.0</td>\n",
       "      <td>18944.000000</td>\n",
       "      <td>18944.000000</td>\n",
       "      <td>18944.000000</td>\n",
       "      <td>18944.000000</td>\n",
       "      <td>18944.000000</td>\n",
       "      <td>18944.000000</td>\n",
       "      <td>18944.000000</td>\n",
       "    </tr>\n",
       "    <tr>\n",
       "      <th>mean</th>\n",
       "      <td>226242.402872</td>\n",
       "      <td>25.225823</td>\n",
       "      <td>181.190773</td>\n",
       "      <td>75.016892</td>\n",
       "      <td>1.357070</td>\n",
       "      <td>65.677787</td>\n",
       "      <td>71.086729</td>\n",
       "      <td>2.224813e+06</td>\n",
       "      <td>8675.852513</td>\n",
       "      <td>1.091850</td>\n",
       "      <td>...</td>\n",
       "      <td>48.050412</td>\n",
       "      <td>57.978674</td>\n",
       "      <td>NaN</td>\n",
       "      <td>47.581767</td>\n",
       "      <td>45.546505</td>\n",
       "      <td>16.446052</td>\n",
       "      <td>16.236486</td>\n",
       "      <td>16.103357</td>\n",
       "      <td>16.225982</td>\n",
       "      <td>16.551309</td>\n",
       "    </tr>\n",
       "    <tr>\n",
       "      <th>std</th>\n",
       "      <td>27171.091056</td>\n",
       "      <td>4.697354</td>\n",
       "      <td>6.825672</td>\n",
       "      <td>7.057140</td>\n",
       "      <td>0.739327</td>\n",
       "      <td>7.002278</td>\n",
       "      <td>6.109985</td>\n",
       "      <td>5.102486e+06</td>\n",
       "      <td>19654.774894</td>\n",
       "      <td>0.361841</td>\n",
       "      <td>...</td>\n",
       "      <td>15.671721</td>\n",
       "      <td>12.118390</td>\n",
       "      <td>NaN</td>\n",
       "      <td>21.402461</td>\n",
       "      <td>20.953997</td>\n",
       "      <td>17.577332</td>\n",
       "      <td>16.845480</td>\n",
       "      <td>16.519399</td>\n",
       "      <td>17.017341</td>\n",
       "      <td>17.878121</td>\n",
       "    </tr>\n",
       "    <tr>\n",
       "      <th>min</th>\n",
       "      <td>41.000000</td>\n",
       "      <td>16.000000</td>\n",
       "      <td>155.000000</td>\n",
       "      <td>50.000000</td>\n",
       "      <td>1.000000</td>\n",
       "      <td>47.000000</td>\n",
       "      <td>47.000000</td>\n",
       "      <td>0.000000e+00</td>\n",
       "      <td>0.000000</td>\n",
       "      <td>1.000000</td>\n",
       "      <td>...</td>\n",
       "      <td>6.000000</td>\n",
       "      <td>12.000000</td>\n",
       "      <td>NaN</td>\n",
       "      <td>5.000000</td>\n",
       "      <td>4.000000</td>\n",
       "      <td>1.000000</td>\n",
       "      <td>1.000000</td>\n",
       "      <td>1.000000</td>\n",
       "      <td>1.000000</td>\n",
       "      <td>1.000000</td>\n",
       "    </tr>\n",
       "    <tr>\n",
       "      <th>25%</th>\n",
       "      <td>210030.500000</td>\n",
       "      <td>21.000000</td>\n",
       "      <td>176.000000</td>\n",
       "      <td>70.000000</td>\n",
       "      <td>1.000000</td>\n",
       "      <td>61.000000</td>\n",
       "      <td>67.000000</td>\n",
       "      <td>3.000000e+05</td>\n",
       "      <td>1000.000000</td>\n",
       "      <td>1.000000</td>\n",
       "      <td>...</td>\n",
       "      <td>38.750000</td>\n",
       "      <td>50.000000</td>\n",
       "      <td>NaN</td>\n",
       "      <td>27.000000</td>\n",
       "      <td>24.000000</td>\n",
       "      <td>8.000000</td>\n",
       "      <td>8.000000</td>\n",
       "      <td>8.000000</td>\n",
       "      <td>8.000000</td>\n",
       "      <td>8.000000</td>\n",
       "    </tr>\n",
       "    <tr>\n",
       "      <th>50%</th>\n",
       "      <td>232314.500000</td>\n",
       "      <td>25.000000</td>\n",
       "      <td>181.000000</td>\n",
       "      <td>75.000000</td>\n",
       "      <td>1.000000</td>\n",
       "      <td>66.000000</td>\n",
       "      <td>71.000000</td>\n",
       "      <td>6.500000e+05</td>\n",
       "      <td>3000.000000</td>\n",
       "      <td>1.000000</td>\n",
       "      <td>...</td>\n",
       "      <td>49.000000</td>\n",
       "      <td>59.000000</td>\n",
       "      <td>NaN</td>\n",
       "      <td>55.000000</td>\n",
       "      <td>52.000000</td>\n",
       "      <td>11.000000</td>\n",
       "      <td>11.000000</td>\n",
       "      <td>11.000000</td>\n",
       "      <td>11.000000</td>\n",
       "      <td>11.000000</td>\n",
       "    </tr>\n",
       "    <tr>\n",
       "      <th>75%</th>\n",
       "      <td>246760.250000</td>\n",
       "      <td>29.000000</td>\n",
       "      <td>186.000000</td>\n",
       "      <td>80.000000</td>\n",
       "      <td>1.000000</td>\n",
       "      <td>70.000000</td>\n",
       "      <td>75.000000</td>\n",
       "      <td>1.800000e+06</td>\n",
       "      <td>7000.000000</td>\n",
       "      <td>1.000000</td>\n",
       "      <td>...</td>\n",
       "      <td>60.000000</td>\n",
       "      <td>66.000000</td>\n",
       "      <td>NaN</td>\n",
       "      <td>65.000000</td>\n",
       "      <td>63.000000</td>\n",
       "      <td>14.000000</td>\n",
       "      <td>14.000000</td>\n",
       "      <td>14.000000</td>\n",
       "      <td>14.000000</td>\n",
       "      <td>14.000000</td>\n",
       "    </tr>\n",
       "    <tr>\n",
       "      <th>max</th>\n",
       "      <td>258970.000000</td>\n",
       "      <td>53.000000</td>\n",
       "      <td>206.000000</td>\n",
       "      <td>110.000000</td>\n",
       "      <td>4.000000</td>\n",
       "      <td>93.000000</td>\n",
       "      <td>95.000000</td>\n",
       "      <td>1.055000e+08</td>\n",
       "      <td>560000.000000</td>\n",
       "      <td>5.000000</td>\n",
       "      <td>...</td>\n",
       "      <td>92.000000</td>\n",
       "      <td>96.000000</td>\n",
       "      <td>NaN</td>\n",
       "      <td>93.000000</td>\n",
       "      <td>90.000000</td>\n",
       "      <td>90.000000</td>\n",
       "      <td>92.000000</td>\n",
       "      <td>93.000000</td>\n",
       "      <td>91.000000</td>\n",
       "      <td>90.000000</td>\n",
       "    </tr>\n",
       "  </tbody>\n",
       "</table>\n",
       "<p>8 rows × 62 columns</p>\n",
       "</div>"
      ],
      "text/plain": [
       "           sofifa_id           age     height_cm     weight_kg   league_rank  \\\n",
       "count   18944.000000  18944.000000  18944.000000  18944.000000  18719.000000   \n",
       "mean   226242.402872     25.225823    181.190773     75.016892      1.357070   \n",
       "std     27171.091056      4.697354      6.825672      7.057140      0.739327   \n",
       "min        41.000000     16.000000    155.000000     50.000000      1.000000   \n",
       "25%    210030.500000     21.000000    176.000000     70.000000      1.000000   \n",
       "50%    232314.500000     25.000000    181.000000     75.000000      1.000000   \n",
       "75%    246760.250000     29.000000    186.000000     80.000000      1.000000   \n",
       "max    258970.000000     53.000000    206.000000    110.000000      4.000000   \n",
       "\n",
       "            overall     potential     value_eur       wage_eur  \\\n",
       "count  18944.000000  18944.000000  1.894400e+04   18944.000000   \n",
       "mean      65.677787     71.086729  2.224813e+06    8675.852513   \n",
       "std        7.002278      6.109985  5.102486e+06   19654.774894   \n",
       "min       47.000000     47.000000  0.000000e+00       0.000000   \n",
       "25%       61.000000     67.000000  3.000000e+05    1000.000000   \n",
       "50%       66.000000     71.000000  6.500000e+05    3000.000000   \n",
       "75%       70.000000     75.000000  1.800000e+06    7000.000000   \n",
       "max       93.000000     95.000000  1.055000e+08  560000.000000   \n",
       "\n",
       "       international_reputation  ...  mentality_penalties  \\\n",
       "count              18944.000000  ...         18944.000000   \n",
       "mean                   1.091850  ...            48.050412   \n",
       "std                    0.361841  ...            15.671721   \n",
       "min                    1.000000  ...             6.000000   \n",
       "25%                    1.000000  ...            38.750000   \n",
       "50%                    1.000000  ...            49.000000   \n",
       "75%                    1.000000  ...            60.000000   \n",
       "max                    5.000000  ...            92.000000   \n",
       "\n",
       "       mentality_composure  defending_marking  defending_standing_tackle  \\\n",
       "count         18944.000000                0.0               18944.000000   \n",
       "mean             57.978674                NaN                  47.581767   \n",
       "std              12.118390                NaN                  21.402461   \n",
       "min              12.000000                NaN                   5.000000   \n",
       "25%              50.000000                NaN                  27.000000   \n",
       "50%              59.000000                NaN                  55.000000   \n",
       "75%              66.000000                NaN                  65.000000   \n",
       "max              96.000000                NaN                  93.000000   \n",
       "\n",
       "       defending_sliding_tackle  goalkeeping_diving  goalkeeping_handling  \\\n",
       "count              18944.000000        18944.000000          18944.000000   \n",
       "mean                  45.546505           16.446052             16.236486   \n",
       "std                   20.953997           17.577332             16.845480   \n",
       "min                    4.000000            1.000000              1.000000   \n",
       "25%                   24.000000            8.000000              8.000000   \n",
       "50%                   52.000000           11.000000             11.000000   \n",
       "75%                   63.000000           14.000000             14.000000   \n",
       "max                   90.000000           90.000000             92.000000   \n",
       "\n",
       "       goalkeeping_kicking  goalkeeping_positioning  goalkeeping_reflexes  \n",
       "count         18944.000000             18944.000000          18944.000000  \n",
       "mean             16.103357                16.225982             16.551309  \n",
       "std              16.519399                17.017341             17.878121  \n",
       "min               1.000000                 1.000000              1.000000  \n",
       "25%               8.000000                 8.000000              8.000000  \n",
       "50%              11.000000                11.000000             11.000000  \n",
       "75%              14.000000                14.000000             14.000000  \n",
       "max              93.000000                91.000000             90.000000  \n",
       "\n",
       "[8 rows x 62 columns]"
      ]
     },
     "execution_count": 6,
     "metadata": {},
     "output_type": "execute_result"
    }
   ],
   "source": [
    "df.describe()"
   ]
  },
  {
   "cell_type": "code",
   "execution_count": 7,
   "id": "eea2ad88",
   "metadata": {},
   "outputs": [
    {
     "data": {
      "text/plain": [
       "(18944, 106)"
      ]
     },
     "execution_count": 7,
     "metadata": {},
     "output_type": "execute_result"
    }
   ],
   "source": [
    "df.shape"
   ]
  },
  {
   "cell_type": "code",
   "execution_count": 8,
   "id": "c9b1d9e9",
   "metadata": {},
   "outputs": [
    {
     "name": "stdout",
     "output_type": "stream",
     "text": [
      "\n",
      "Column Names:\n",
      " ['sofifa_id', 'player_url', 'short_name', 'long_name', 'age', 'dob', 'height_cm', 'weight_kg', 'nationality', 'club_name', 'league_name', 'league_rank', 'overall', 'potential', 'value_eur', 'wage_eur', 'player_positions', 'preferred_foot', 'international_reputation', 'weak_foot', 'skill_moves', 'work_rate', 'body_type', 'real_face', 'release_clause_eur', 'player_tags', 'team_position', 'team_jersey_number', 'loaned_from', 'joined', 'contract_valid_until', 'nation_position', 'nation_jersey_number', 'pace', 'shooting', 'passing', 'dribbling', 'defending', 'physic', 'gk_diving', 'gk_handling', 'gk_kicking', 'gk_reflexes', 'gk_speed', 'gk_positioning', 'player_traits', 'attacking_crossing', 'attacking_finishing', 'attacking_heading_accuracy', 'attacking_short_passing', 'attacking_volleys', 'skill_dribbling', 'skill_curve', 'skill_fk_accuracy', 'skill_long_passing', 'skill_ball_control', 'movement_acceleration', 'movement_sprint_speed', 'movement_agility', 'movement_reactions', 'movement_balance', 'power_shot_power', 'power_jumping', 'power_stamina', 'power_strength', 'power_long_shots', 'mentality_aggression', 'mentality_interceptions', 'mentality_positioning', 'mentality_vision', 'mentality_penalties', 'mentality_composure', 'defending_marking', 'defending_standing_tackle', 'defending_sliding_tackle', 'goalkeeping_diving', 'goalkeeping_handling', 'goalkeeping_kicking', 'goalkeeping_positioning', 'goalkeeping_reflexes', 'ls', 'st', 'rs', 'lw', 'lf', 'cf', 'rf', 'rw', 'lam', 'cam', 'ram', 'lm', 'lcm', 'cm', 'rcm', 'rm', 'lwb', 'ldm', 'cdm', 'rdm', 'rwb', 'lb', 'lcb', 'cb', 'rcb', 'rb']\n"
     ]
    }
   ],
   "source": [
    "print(\"\\nColumn Names:\\n\", df.columns.tolist())"
   ]
  },
  {
   "cell_type": "code",
   "execution_count": 9,
   "id": "3d5e643b",
   "metadata": {},
   "outputs": [
    {
     "data": {
      "text/plain": [
       "defending_marking       18944\n",
       "loaned_from             18186\n",
       "nation_jersey_number    17817\n",
       "nation_position         17817\n",
       "player_tags             17536\n",
       "gk_speed                16861\n",
       "gk_kicking              16861\n",
       "gk_handling             16861\n",
       "gk_diving               16861\n",
       "gk_positioning          16861\n",
       "dtype: int64"
      ]
     },
     "execution_count": 9,
     "metadata": {},
     "output_type": "execute_result"
    }
   ],
   "source": [
    "df.isnull().sum().sort_values(ascending=False).head(10)"
   ]
  },
  {
   "cell_type": "code",
   "execution_count": 10,
   "id": "a3b567b0",
   "metadata": {},
   "outputs": [
    {
     "data": {
      "text/plain": [
       "High_Performer\n",
       "0    18441\n",
       "1      503\n",
       "Name: count, dtype: int64"
      ]
     },
     "execution_count": 10,
     "metadata": {},
     "output_type": "execute_result"
    }
   ],
   "source": [
    "df[\"High_Performer\"] = 0\n",
    "df.loc[df[\"overall\"] >= 80, \"High_Performer\"] = 1\n",
    "\n",
    "df[\"High_Performer\"].value_counts()"
   ]
  },
  {
   "cell_type": "code",
   "execution_count": 11,
   "id": "a412fc5a",
   "metadata": {},
   "outputs": [],
   "source": [
    "features = ['pace', 'shooting', 'passing', 'dribbling','defending', 'physic', 'age', 'height_cm', 'weight_kg',\n",
    "            'skill_moves', 'international_reputation', 'weak_foot']\n"
   ]
  },
  {
   "cell_type": "code",
   "execution_count": 12,
   "id": "78ebfdb3",
   "metadata": {},
   "outputs": [],
   "source": [
    "df_model = df[features + [\"High_Performer\"]].dropna()"
   ]
  },
  {
   "cell_type": "code",
   "execution_count": 13,
   "id": "dcf5c36a",
   "metadata": {},
   "outputs": [
    {
     "data": {
      "text/plain": [
       "(16861, 13)"
      ]
     },
     "execution_count": 13,
     "metadata": {},
     "output_type": "execute_result"
    }
   ],
   "source": [
    "df_model.shape"
   ]
  },
  {
   "cell_type": "code",
   "execution_count": 14,
   "id": "a4d18e64",
   "metadata": {},
   "outputs": [
    {
     "data": {
      "text/plain": [
       "('Data shape after cleaning:', (16861, 13))"
      ]
     },
     "execution_count": 14,
     "metadata": {},
     "output_type": "execute_result"
    }
   ],
   "source": [
    "\"Data shape after cleaning:\", df_model.shape"
   ]
  },
  {
   "cell_type": "code",
   "execution_count": 15,
   "id": "76b51b92",
   "metadata": {},
   "outputs": [
    {
     "data": {
      "text/html": [
       "<div>\n",
       "<style scoped>\n",
       "    .dataframe tbody tr th:only-of-type {\n",
       "        vertical-align: middle;\n",
       "    }\n",
       "\n",
       "    .dataframe tbody tr th {\n",
       "        vertical-align: top;\n",
       "    }\n",
       "\n",
       "    .dataframe thead th {\n",
       "        text-align: right;\n",
       "    }\n",
       "</style>\n",
       "<table border=\"1\" class=\"dataframe\">\n",
       "  <thead>\n",
       "    <tr style=\"text-align: right;\">\n",
       "      <th></th>\n",
       "      <th>pace</th>\n",
       "      <th>shooting</th>\n",
       "      <th>passing</th>\n",
       "      <th>dribbling</th>\n",
       "      <th>defending</th>\n",
       "      <th>physic</th>\n",
       "      <th>age</th>\n",
       "      <th>height_cm</th>\n",
       "      <th>weight_kg</th>\n",
       "      <th>skill_moves</th>\n",
       "      <th>international_reputation</th>\n",
       "      <th>weak_foot</th>\n",
       "      <th>High_Performer</th>\n",
       "    </tr>\n",
       "  </thead>\n",
       "  <tbody>\n",
       "    <tr>\n",
       "      <th>0</th>\n",
       "      <td>85.0</td>\n",
       "      <td>92.0</td>\n",
       "      <td>91.0</td>\n",
       "      <td>95.0</td>\n",
       "      <td>38.0</td>\n",
       "      <td>65.0</td>\n",
       "      <td>33</td>\n",
       "      <td>170</td>\n",
       "      <td>72</td>\n",
       "      <td>4</td>\n",
       "      <td>5</td>\n",
       "      <td>4</td>\n",
       "      <td>1</td>\n",
       "    </tr>\n",
       "    <tr>\n",
       "      <th>1</th>\n",
       "      <td>89.0</td>\n",
       "      <td>93.0</td>\n",
       "      <td>81.0</td>\n",
       "      <td>89.0</td>\n",
       "      <td>35.0</td>\n",
       "      <td>77.0</td>\n",
       "      <td>35</td>\n",
       "      <td>187</td>\n",
       "      <td>83</td>\n",
       "      <td>5</td>\n",
       "      <td>5</td>\n",
       "      <td>4</td>\n",
       "      <td>1</td>\n",
       "    </tr>\n",
       "    <tr>\n",
       "      <th>3</th>\n",
       "      <td>78.0</td>\n",
       "      <td>91.0</td>\n",
       "      <td>78.0</td>\n",
       "      <td>85.0</td>\n",
       "      <td>43.0</td>\n",
       "      <td>82.0</td>\n",
       "      <td>31</td>\n",
       "      <td>184</td>\n",
       "      <td>80</td>\n",
       "      <td>4</td>\n",
       "      <td>4</td>\n",
       "      <td>4</td>\n",
       "      <td>1</td>\n",
       "    </tr>\n",
       "    <tr>\n",
       "      <th>4</th>\n",
       "      <td>91.0</td>\n",
       "      <td>85.0</td>\n",
       "      <td>86.0</td>\n",
       "      <td>94.0</td>\n",
       "      <td>36.0</td>\n",
       "      <td>59.0</td>\n",
       "      <td>28</td>\n",
       "      <td>175</td>\n",
       "      <td>68</td>\n",
       "      <td>5</td>\n",
       "      <td>5</td>\n",
       "      <td>5</td>\n",
       "      <td>1</td>\n",
       "    </tr>\n",
       "    <tr>\n",
       "      <th>5</th>\n",
       "      <td>76.0</td>\n",
       "      <td>86.0</td>\n",
       "      <td>93.0</td>\n",
       "      <td>88.0</td>\n",
       "      <td>64.0</td>\n",
       "      <td>78.0</td>\n",
       "      <td>29</td>\n",
       "      <td>181</td>\n",
       "      <td>70</td>\n",
       "      <td>4</td>\n",
       "      <td>4</td>\n",
       "      <td>5</td>\n",
       "      <td>1</td>\n",
       "    </tr>\n",
       "  </tbody>\n",
       "</table>\n",
       "</div>"
      ],
      "text/plain": [
       "   pace  shooting  passing  dribbling  defending  physic  age  height_cm  \\\n",
       "0  85.0      92.0     91.0       95.0       38.0    65.0   33        170   \n",
       "1  89.0      93.0     81.0       89.0       35.0    77.0   35        187   \n",
       "3  78.0      91.0     78.0       85.0       43.0    82.0   31        184   \n",
       "4  91.0      85.0     86.0       94.0       36.0    59.0   28        175   \n",
       "5  76.0      86.0     93.0       88.0       64.0    78.0   29        181   \n",
       "\n",
       "   weight_kg  skill_moves  international_reputation  weak_foot  High_Performer  \n",
       "0         72            4                         5          4               1  \n",
       "1         83            5                         5          4               1  \n",
       "3         80            4                         4          4               1  \n",
       "4         68            5                         5          5               1  \n",
       "5         70            4                         4          5               1  "
      ]
     },
     "execution_count": 15,
     "metadata": {},
     "output_type": "execute_result"
    }
   ],
   "source": [
    "df_model.head()"
   ]
  },
  {
   "cell_type": "code",
   "execution_count": 16,
   "id": "89fb2baf",
   "metadata": {},
   "outputs": [
    {
     "data": {
      "text/plain": [
       "Index(['pace', 'shooting', 'passing', 'dribbling', 'defending', 'physic',\n",
       "       'age', 'height_cm', 'weight_kg', 'skill_moves',\n",
       "       'international_reputation', 'weak_foot', 'High_Performer'],\n",
       "      dtype='object')"
      ]
     },
     "execution_count": 16,
     "metadata": {},
     "output_type": "execute_result"
    }
   ],
   "source": [
    "df_model.columns"
   ]
  },
  {
   "cell_type": "code",
   "execution_count": 17,
   "id": "7a640fc1",
   "metadata": {},
   "outputs": [],
   "source": [
    "X = df_model[['pace', 'shooting', 'passing', 'dribbling', 'defending', 'physic','age', 'height_cm', 'weight_kg', \n",
    "             'skill_moves','international_reputation', 'weak_foot']]\n",
    "y = df_model['High_Performer']"
   ]
  },
  {
   "cell_type": "code",
   "execution_count": 18,
   "id": "11678eeb",
   "metadata": {},
   "outputs": [],
   "source": [
    "X_train, X_test, y_train, y_test = train_test_split(X, y, test_size=0.2, random_state=42)"
   ]
  },
  {
   "cell_type": "code",
   "execution_count": 19,
   "id": "c34b8227",
   "metadata": {},
   "outputs": [
    {
     "data": {
      "text/plain": [
       "('Training data:', (13488, 12))"
      ]
     },
     "execution_count": 19,
     "metadata": {},
     "output_type": "execute_result"
    }
   ],
   "source": [
    "\"Training data:\", X_train.shape\n"
   ]
  },
  {
   "cell_type": "code",
   "execution_count": 20,
   "id": "18b7e14a",
   "metadata": {},
   "outputs": [
    {
     "data": {
      "text/plain": [
       "('Testing data:', (3373, 12))"
      ]
     },
     "execution_count": 20,
     "metadata": {},
     "output_type": "execute_result"
    }
   ],
   "source": [
    "\"Testing data:\", X_test.shape"
   ]
  },
  {
   "cell_type": "code",
   "execution_count": 21,
   "id": "351db8cc",
   "metadata": {},
   "outputs": [],
   "source": [
    "model = RandomForestClassifier(n_estimators=100, random_state=42)"
   ]
  },
  {
   "cell_type": "code",
   "execution_count": 1,
   "id": "ee25affe",
   "metadata": {},
   "outputs": [
    {
     "ename": "NameError",
     "evalue": "name 'model' is not defined",
     "output_type": "error",
     "traceback": [
      "\u001b[1;31m---------------------------------------------------------------------------\u001b[0m",
      "\u001b[1;31mNameError\u001b[0m                                 Traceback (most recent call last)",
      "Cell \u001b[1;32mIn[1], line 1\u001b[0m\n\u001b[1;32m----> 1\u001b[0m model\u001b[38;5;241m.\u001b[39mfit(X_train, y_train)\n",
      "\u001b[1;31mNameError\u001b[0m: name 'model' is not defined"
     ]
    }
   ],
   "source": [
    "model.fit(X_train, y_train)"
   ]
  },
  {
   "cell_type": "code",
   "execution_count": 57,
   "id": "16b4fc79",
   "metadata": {},
   "outputs": [],
   "source": [
    "y_predictions = model.predict(X_test)"
   ]
  },
  {
   "cell_type": "code",
   "execution_count": 63,
   "id": "dc9decac",
   "metadata": {},
   "outputs": [
    {
     "name": "stdout",
     "output_type": "stream",
     "text": [
      "\n",
      "Confusion Matrix:\n",
      " [[3271    5]\n",
      " [  28   69]]\n"
     ]
    }
   ],
   "source": [
    "print(\"\\nConfusion Matrix:\\n\", confusion_matrix(y_test, y_predictions))"
   ]
  },
  {
   "cell_type": "code",
   "execution_count": 66,
   "id": "6c367b70",
   "metadata": {},
   "outputs": [
    {
     "name": "stdout",
     "output_type": "stream",
     "text": [
      "\n",
      "Classification Report:\n",
      "               precision    recall  f1-score   support\n",
      "\n",
      "           0       0.99      1.00      0.99      3276\n",
      "           1       0.93      0.71      0.81        97\n",
      "\n",
      "    accuracy                           0.99      3373\n",
      "   macro avg       0.96      0.85      0.90      3373\n",
      "weighted avg       0.99      0.99      0.99      3373\n",
      "\n"
     ]
    }
   ],
   "source": [
    "print(\"\\nClassification Report:\\n\", classification_report(y_test, y_predictions))"
   ]
  },
  {
   "cell_type": "code",
   "execution_count": 67,
   "id": "6b1c086a",
   "metadata": {},
   "outputs": [
    {
     "name": "stdout",
     "output_type": "stream",
     "text": [
      "\n",
      "Accuracy Score 0.9902164245478803\n"
     ]
    }
   ],
   "source": [
    "print(\"\\nAccuracy Score\", accuracy_score(y_test, y_predictions))"
   ]
  },
  {
   "cell_type": "code",
   "execution_count": 73,
   "id": "21efaf44",
   "metadata": {},
   "outputs": [],
   "source": [
    "importance_features = model.feature_importances_"
   ]
  },
  {
   "cell_type": "code",
   "execution_count": 75,
   "id": "d076ac89",
   "metadata": {},
   "outputs": [],
   "source": [
    "feature_importance_df = pd.DataFrame({\n",
    "    \"Feature\": X.columns,\n",
    "    \"Importance\":  importance_features\n",
    "}).sort_values(by=\"Importance\", ascending=False)"
   ]
  },
  {
   "cell_type": "code",
   "execution_count": 80,
   "id": "9ccbeb1f",
   "metadata": {},
   "outputs": [
    {
     "data": {
      "image/png": "[encoded data removed]",
      "text/plain": [
       "<Figure size 1600x1000 with 1 Axes>"
      ]
     },
     "metadata": {},
     "output_type": "display_data"
    }
   ],
   "source": [
    "plt.figure(figsize=(16,10))\n",
    "sns.barplot(x=\"Importance\", y=\"Feature\", data=feature_importance_df, palette=\"viridis\")\n",
    "plt.title(\"IMPORTANCE FEATURES OF RANDOM FOREST\")\n",
    "plt.tight_layout()"
   ]
  },
  {
   "cell_type": "code",
   "execution_count": 87,
   "id": "326a5900",
   "metadata": {},
   "outputs": [],
   "source": [
    "# Round correlation values to 2 decimals\n",
    "rounded_corr = corr_matrix.round(2)\n"
   ]
  },
  {
   "cell_type": "code",
   "execution_count": 92,
   "id": "4ecf8d67",
   "metadata": {},
   "outputs": [
    {
     "data": {
      "image/png": "[encoded data removed]",
      "text/plain": [
       "<Figure size 1000x800 with 2 Axes>"
      ]
     },
     "metadata": {},
     "output_type": "display_data"
    }
   ],
   "source": [
    "# Calculate correlation matrix\n",
    "corr_matrix = X.corr()\n",
    "\n",
    "\n",
    "plt.figure(figsize=(10, 8))\n",
    "sns.heatmap(corr_matrix, annot=True, cmap='coolwarm',square=True)\n",
    "plt.title('Correlation Between Player Attributes')\n",
    "plt.tight_layout()\n",
    "plt.show()"
   ]
  },
  {
   "cell_type": "code",
   "execution_count": 110,
   "id": "5bb08b84",
   "metadata": {},
   "outputs": [
    {
     "data": {
      "image/png": "[encoded data removed]",
      "text/plain": [
       "<Figure size 600x500 with 2 Axes>"
      ]
     },
     "metadata": {},
     "output_type": "display_data"
    }
   ],
   "source": [
    "from sklearn.metrics import confusion_matrix\n",
    "\n",
    "\n",
    "cm = confusion_matrix(y_test, y_predictions)\n",
    "\n",
    "\n",
    "plt.figure(figsize=(6, 5))\n",
    "\n",
    "sns.heatmap(cm, annot=True, fmt='d', xticklabels=[\"Low\",\"High\"], yticklabels=[\"Low\", \"High\"], cmap=\"Blues\")\n",
    "\n",
    "plt.title('Confusion Matrix Heatmap')\n",
    "plt.xlabel(\"Actual\")\n",
    "plt.ylabel(\"Predicted\")\n",
    "plt.show()"
   ]
  }
 ],
 "metadata": {
  "kernelspec": {
   "display_name": "Python 3 (ipykernel)",
   "language": "python",
   "name": "python3"
  },
  "language_info": {
   "codemirror_mode": {
    "name": "ipython",
    "version": 3
   },
   "file_extension": ".py",
   "mimetype": "text/x-python",
   "name": "python",
   "nbconvert_exporter": "python",
   "pygments_lexer": "ipython3",
   "version": "3.11.5"
  }
 },
 "nbformat": 4,
 "nbformat_minor": 5
}
